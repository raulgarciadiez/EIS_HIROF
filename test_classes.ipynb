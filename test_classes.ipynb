{
 "cells": [
  {
   "cell_type": "code",
   "execution_count": 7,
   "metadata": {},
   "outputs": [
    {
     "name": "stdout",
     "output_type": "stream",
     "text": [
      "Ewe: 1.0006279945373535\n"
     ]
    },
    {
     "name": "stderr",
     "output_type": "stream",
     "text": [
      "/workspaces/EIS_HIROF/fit_manager.py:32: OptimizeWarning: Covariance of the parameters could not be estimated\n",
      "  popt, pcov = curve_fit(\n"
     ]
    }
   ],
   "source": [
    "%reload_ext autoreload\n",
    "%autoreload 2\n",
    "\n",
    "# Import the relevant classes\n",
    "from data_handler import DataHandler\n",
    "from models import RRCRCModel\n",
    "from fit_manager import FitManager\n",
    "#from plotter import plot_results\n",
    "\n",
    "# Load the data\n",
    "data_handler = DataHandler('MPR files/1_00V_10cyc.mpr')\n",
    "\n",
    "# Compute Ewe value (optional)\n",
    "ewe = data_handler.compute_ewe()\n",
    "print(f'Ewe: {ewe}')\n",
    "\n",
    "# Choose initial parameters for RRCRCModel\n",
    "Rs_guess = 11.\n",
    "R_guess = 1.5\n",
    "R2_guess = 6e4\n",
    "\n",
    "initial_guess = [Rs_guess, R_guess, 1e-6, R2_guess, 1e-6]  # R0, R1, C1, R2, C2 (example)\n",
    "\n",
    "# Create the RRCRCModel instance\n",
    "model = RRCRCModel(initial_guess)\n",
    "\n",
    "# Create the FitManager and fit the model to a frequency range\n",
    "fit_manager = FitManager(data_handler)\n",
    "freq_min = 4\n",
    "freq_max = 1e6\n",
    "fitted_model, pcov = fit_manager.fit_model(model, fmin=freq_min, fmax=freq_max)\n",
    "\n"
   ]
  },
  {
   "cell_type": "code",
   "execution_count": 8,
   "metadata": {},
   "outputs": [
    {
     "data": {
      "text/plain": [
       "(array([1.1e+01, 1.5e+00, 1.0e-06, 6.0e+04, 1.0e-06]),\n",
       " array([1.1e+01, 1.5e+00, 1.0e-06, 6.0e+04, 1.0e-06]))"
      ]
     },
     "execution_count": 8,
     "metadata": {},
     "output_type": "execute_result"
    }
   ],
   "source": [
    "model.params, fitted_model.params"
   ]
  },
  {
   "cell_type": "code",
   "execution_count": 1,
   "metadata": {},
   "outputs": [
    {
     "ename": "NameError",
     "evalue": "name 'data_handler' is not defined",
     "output_type": "error",
     "traceback": [
      "\u001b[0;31m---------------------------------------------------------------------------\u001b[0m",
      "\u001b[0;31mNameError\u001b[0m                                 Traceback (most recent call last)",
      "Cell \u001b[0;32mIn[1], line 2\u001b[0m\n\u001b[1;32m      1\u001b[0m \u001b[38;5;66;03m# Plot the results\u001b[39;00m\n\u001b[0;32m----> 2\u001b[0m omega_data \u001b[38;5;241m=\u001b[39m \u001b[43mdata_handler\u001b[49m\u001b[38;5;241m.\u001b[39mfilter_frequencies(\u001b[38;5;241m0.1\u001b[39m, \u001b[38;5;241m1000\u001b[39m)[\u001b[38;5;124m'\u001b[39m\u001b[38;5;124mfrequencies\u001b[39m\u001b[38;5;124m'\u001b[39m]\n\u001b[1;32m      3\u001b[0m Z_data \u001b[38;5;241m=\u001b[39m data_handler\u001b[38;5;241m.\u001b[39mfilter_frequencies(\u001b[38;5;241m0.1\u001b[39m, \u001b[38;5;241m1000\u001b[39m)[\u001b[38;5;124m'\u001b[39m\u001b[38;5;124m<Ewe>/V\u001b[39m\u001b[38;5;124m'\u001b[39m]  \u001b[38;5;66;03m# Replace with the appropriate column for Z\u001b[39;00m\n\u001b[1;32m      5\u001b[0m plot_results(omega_data, Z_data, fitted_model)\n",
      "\u001b[0;31mNameError\u001b[0m: name 'data_handler' is not defined"
     ]
    }
   ],
   "source": [
    "# Plot the results\n",
    "omega_data = data_handler.filter_frequencies(0.1, 1000)['frequencies']\n",
    "Z_data = data_handler.filter_frequencies(0.1, 1000)['<Ewe>/V']  # Replace with the appropriate column for Z\n",
    "\n",
    "plot_results(omega_data, Z_data, fitted_model)\n"
   ]
  },
  {
   "cell_type": "code",
   "execution_count": null,
   "metadata": {},
   "outputs": [],
   "source": []
  }
 ],
 "metadata": {
  "kernelspec": {
   "display_name": "Python 3",
   "language": "python",
   "name": "python3"
  },
  "language_info": {
   "codemirror_mode": {
    "name": "ipython",
    "version": 3
   },
   "file_extension": ".py",
   "mimetype": "text/x-python",
   "name": "python",
   "nbconvert_exporter": "python",
   "pygments_lexer": "ipython3",
   "version": "3.12.1"
  }
 },
 "nbformat": 4,
 "nbformat_minor": 2
}
