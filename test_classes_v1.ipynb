{
 "cells": [
  {
   "cell_type": "code",
   "execution_count": 8,
   "metadata": {},
   "outputs": [
    {
     "name": "stdout",
     "output_type": "stream",
     "text": [
      "Ewe: 1.0006279945373535\n"
     ]
    }
   ],
   "source": [
    "%reload_ext autoreload\n",
    "%autoreload 2\n",
    "\n",
    "# Import the relevant classes\n",
    "from data_handler import DataHandler\n",
    "from models import RRCRCModel,RRCRCCPEModel\n",
    "from fit_manager import FitManager\n",
    "#from plotter import plot_results\n",
    "\n",
    "# Load the data\n",
    "data_handler = DataHandler('MPR files/1_00V_10cyc.mpr')\n",
    "\n",
    "# Compute Ewe value (optional)\n",
    "ewe = data_handler.compute_ewe()\n",
    "print(f'Ewe: {ewe}')\n",
    "\n",
    "# Choose initial parameters for Model\n",
    "Rs_guess = 11.\n",
    "\n",
    "R_guess = 1.5\n",
    "fs_guess = 10**1.3\n",
    "n_guess = 1.\n",
    "\n",
    "R2_guess = 5e4\n",
    "fs2_guess = 10**0.5\n",
    "n2_guess = 1.\n",
    "\n",
    "initial_guess = [Rs_guess, R_guess, fs_guess,n_guess, R2_guess, fs2_guess,n2_guess] \n",
    "\n",
    "model = RRCRCCPEModel(initial_guess)\n",
    "\n",
    "bounds_fit = (\n",
    "    [5, 1, 1e-2, 0.5, 1, 1e-2, 0.5],  # Lower bounds\n",
    "    [15, 5, 1e7, 1.5, 1e6, 1e7, 1.5]  # Upper bounds\n",
    "\n",
    ")\n",
    "\n",
    "# Create the FitManager and fit the model to a frequency range\n",
    "fit_manager = FitManager(data_handler)\n",
    "freq_min = 4\n",
    "freq_max = 1e6\n",
    "fitted_model, pcov = fit_manager.fit_model(model, fmin=freq_min, fmax=freq_max, bounds=bounds_fit)"
   ]
  },
  {
   "cell_type": "code",
   "execution_count": 9,
   "metadata": {},
   "outputs": [
    {
     "data": {
      "text/plain": [
       "(array([1.04891540e+01, 2.46910669e+00, 2.59454416e+04, 5.00000000e-01,\n",
       "        4.65574270e+05, 1.00000000e-02, 9.83976162e-01]),\n",
       " array([1.04891540e+01, 2.46910669e+00, 2.59454416e+04, 5.00000000e-01,\n",
       "        4.65574270e+05, 1.00000000e-02, 9.83976162e-01]))"
      ]
     },
     "execution_count": 9,
     "metadata": {},
     "output_type": "execute_result"
    }
   ],
   "source": [
    "model.params, fitted_model.params"
   ]
  },
  {
   "cell_type": "code",
   "execution_count": 1,
   "metadata": {},
   "outputs": [
    {
     "ename": "NameError",
     "evalue": "name 'data_handler' is not defined",
     "output_type": "error",
     "traceback": [
      "\u001b[0;31m---------------------------------------------------------------------------\u001b[0m",
      "\u001b[0;31mNameError\u001b[0m                                 Traceback (most recent call last)",
      "Cell \u001b[0;32mIn[1], line 2\u001b[0m\n\u001b[1;32m      1\u001b[0m \u001b[38;5;66;03m# Plot the results\u001b[39;00m\n\u001b[0;32m----> 2\u001b[0m omega_data \u001b[38;5;241m=\u001b[39m \u001b[43mdata_handler\u001b[49m\u001b[38;5;241m.\u001b[39mfilter_frequencies(\u001b[38;5;241m0.1\u001b[39m, \u001b[38;5;241m1000\u001b[39m)[\u001b[38;5;124m'\u001b[39m\u001b[38;5;124mfrequencies\u001b[39m\u001b[38;5;124m'\u001b[39m]\n\u001b[1;32m      3\u001b[0m Z_data \u001b[38;5;241m=\u001b[39m data_handler\u001b[38;5;241m.\u001b[39mfilter_frequencies(\u001b[38;5;241m0.1\u001b[39m, \u001b[38;5;241m1000\u001b[39m)[\u001b[38;5;124m'\u001b[39m\u001b[38;5;124m<Ewe>/V\u001b[39m\u001b[38;5;124m'\u001b[39m]  \u001b[38;5;66;03m# Replace with the appropriate column for Z\u001b[39;00m\n\u001b[1;32m      5\u001b[0m plot_results(omega_data, Z_data, fitted_model)\n",
      "\u001b[0;31mNameError\u001b[0m: name 'data_handler' is not defined"
     ]
    }
   ],
   "source": [
    "# Plot the results\n",
    "omega_data = data_handler.filter_frequencies(0.1, 1000)['frequencies']\n",
    "Z_data = data_handler.filter_frequencies(0.1, 1000)['<Ewe>/V']  # Replace with the appropriate column for Z\n",
    "\n",
    "plot_results(omega_data, Z_data, fitted_model)\n"
   ]
  },
  {
   "cell_type": "code",
   "execution_count": null,
   "metadata": {},
   "outputs": [],
   "source": []
  }
 ],
 "metadata": {
  "kernelspec": {
   "display_name": "Python 3",
   "language": "python",
   "name": "python3"
  },
  "language_info": {
   "codemirror_mode": {
    "name": "ipython",
    "version": 3
   },
   "file_extension": ".py",
   "mimetype": "text/x-python",
   "name": "python",
   "nbconvert_exporter": "python",
   "pygments_lexer": "ipython3",
   "version": "3.12.1"
  }
 },
 "nbformat": 4,
 "nbformat_minor": 2
}
