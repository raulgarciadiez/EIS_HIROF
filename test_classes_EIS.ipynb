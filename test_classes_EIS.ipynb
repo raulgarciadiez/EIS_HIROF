{
 "cells": [
  {
   "cell_type": "markdown",
   "metadata": {},
   "source": [
    "# Single file"
   ]
  },
  {
   "cell_type": "code",
   "execution_count": null,
   "metadata": {},
   "outputs": [
    {
     "name": "stdout",
     "output_type": "stream",
     "text": [
      "Using default initial guess: [11.0, 1.5, 19.952623149688797, 1.0, 60000.0, 3.1622776601683795, 1.0]\n",
      "Warning: Some parameters are near the bounds!\n",
      "Parameters hitting bounds: [5.00000000e+00 1.69638330e+03 1.29051596e+00 8.26627505e+04]\n",
      "R-RC-RC-CPE Parameters (narrow): [1.07203082e+01 5.00000000e+00 1.69638330e+03 1.00573764e+00\n",
      " 1.29051596e+00 8.26627505e+04 8.45955143e-01]\n",
      "R-squared:0.999986\n",
      "Using previous fitted parameters as initial guess: [1.07203082e+01 5.00000000e+00 1.69638330e+03 1.00573764e+00\n",
      " 1.29051596e+00 8.26627505e+04 8.45955143e-01]\n",
      "Warning: Some parameters are near the bounds!\n",
      "Parameters hitting bounds: [5.00000000e+00 4.35443879e+01 1.50000000e+00 8.33899028e+00\n",
      " 6.37827913e+04 5.00000000e-01]\n",
      "R-RC-RC-CPE Parameters: [6.61626595e+00 5.00000000e+00 4.35443879e+01 1.50000000e+00\n",
      " 8.33899028e+00 6.37827913e+04 5.00000000e-01]\n",
      "R-squared:0.146525\n"
     ]
    }
   ],
   "source": [
    "from classes_EIS import DataHandler, RRCRCModel,RRCRCCPEModel, FitManager\n",
    "\n",
    "# Define initial guesses and bounds for each \n",
    "Rs_guess = 11.\n",
    "R_guess = 1.5\n",
    "fs_guess = 10**1.3\n",
    "n_guess = 1.\n",
    "R2_guess = 6e4\n",
    "fs2_guess = 10**0.5\n",
    "n2_guess = 1.\n",
    "\n",
    "initial_guess_rrcrccpe = [Rs_guess, R_guess, fs_guess,n_guess, R2_guess, fs2_guess,n2_guess]\n",
    "bounds_rrcrccpe = ([5, 1, 1e-2, 0.5, 1, 1e-2, 0.5], [15, 5, 1e7, 1.5, 1e6, 1e7, 1.5])\n",
    "\n",
    "# R-RC-RC model with CPE\n",
    "rrcrccpe_model = RRCRCCPEModel(initial_guess_rrcrccpe, bounds_rrcrccpe)\n",
    "\n",
    "\n",
    "data_handler = DataHandler('MPR files/1_00V_10cyc.mpr')\n",
    "fit_manager = FitManager(data_handler)\n",
    "\n",
    "# Fit narrow range (high frequencies)\n",
    "f_min=1e3; f_max = 1e6\n",
    "fitted_rrcrccpe_model, rrcrccpe_covariance, rrcrccpe_fit_quality = fit_manager.fit_model(rrcrccpe_model, fmin=f_min, fmax=f_max)\n",
    "print(\"R-RC-RC-CPE Parameters (narrow):\", fitted_rrcrccpe_model.params)\n",
    "print(\"R-squared:%.6f\" %(rrcrccpe_fit_quality[\"R-squared\"]))\n",
    "\n",
    "# Fit whole range (except very slow freq.)\n",
    "f_min = 4\n",
    "fitted_rrcrccpe_model_2, rrcrccpe_covariance_2, rrcrccpe_fit_quality_2 = fit_manager.fit_model(rrcrccpe_model, fmin=f_min, fmax=f_max)\n",
    "print(\"R-RC-RC-CPE Parameters:\", fitted_rrcrccpe_model_2.params)\n",
    "print(\"R-squared:%.6f\" %(rrcrccpe_fit_quality_2[\"R-squared\"]))"
   ]
  },
  {
   "cell_type": "markdown",
   "metadata": {},
   "source": [
    "# Multiple files"
   ]
  },
  {
   "cell_type": "code",
   "execution_count": 12,
   "metadata": {},
   "outputs": [
    {
     "name": "stdout",
     "output_type": "stream",
     "text": [
      "['100 cycles imped/0.4 to 0.78 V/0.4 to 0_17_PEIS_C01.mpr', '100 cycles imped/0.4 to 0.78 V/0.4 to 0_13_PEIS_C01.mpr', '100 cycles imped/0.4 to 0.78 V/0.4 to 0_05_PEIS_C01.mpr', '100 cycles imped/0.4 to 0.78 V/0.4 to 0_06_PEIS_C01.mpr', '100 cycles imped/0.4 to 0.78 V/0.4 to 0_12_PEIS_C01.mpr', '100 cycles imped/0.4 to 0.78 V/0.4 to 0_18_PEIS_C01.mpr', '100 cycles imped/0.4 to 0.78 V/0.4 to 0_15_PEIS_C01.mpr', '100 cycles imped/0.4 to 0.78 V/0.4 to 0_02_PEIS_C01.mpr', '100 cycles imped/0.4 to 0.78 V/0.4 to 0_07_PEIS_C01.mpr', '100 cycles imped/0.4 to 0.78 V/0.4 to 0_09_PEIS_C01.mpr', '100 cycles imped/0.4 to 0.78 V/0.4 to 0_11_PEIS_C01.mpr', '100 cycles imped/0.4 to 0.78 V/0.4 to 0_19_PEIS_C01.mpr', '100 cycles imped/0.4 to 0.78 V/0.4 to 0_03_PEIS_C01.mpr', '100 cycles imped/0.4 to 0.78 V/0.4 to 0_20_PEIS_C01.mpr', '100 cycles imped/0.4 to 0.78 V/0.4 to 0_14_PEIS_C01.mpr', '100 cycles imped/0.4 to 0.78 V/0.4 to 0_04_PEIS_C01.mpr', '100 cycles imped/0.4 to 0.78 V/0.4 to 0_16_PEIS_C01.mpr', '100 cycles imped/0.4 to 0.78 V/0.4 to 0_08_PEIS_C01.mpr', '100 cycles imped/0.4 to 0.78 V/0.4 to 0_10_PEIS_C01.mpr', '100 cycles imped/0.4 to 0.78 V/0.4 to 0_01_PEIS_C01.mpr', '100 cycles imped/0.8 to 1.18 V/0.8 to 1_19_PEIS_C01.mpr', '100 cycles imped/0.8 to 1.18 V/0.8 to 1_10_PEIS_C01.mpr', '100 cycles imped/0.8 to 1.18 V/0.8 to 1_17_PEIS_C01.mpr', '100 cycles imped/0.8 to 1.18 V/0.8 to 1_07_PEIS_C01.mpr', '100 cycles imped/0.8 to 1.18 V/0.8 to 1_04_PEIS_C01.mpr', '100 cycles imped/0.8 to 1.18 V/0.8 to 1_12_PEIS_C01.mpr', '100 cycles imped/0.8 to 1.18 V/0.8 to 1_03_PEIS_C01.mpr', '100 cycles imped/0.8 to 1.18 V/0.8 to 1_20_PEIS_C01.mpr', '100 cycles imped/0.8 to 1.18 V/0.8 to 1_01_PEIS_C01.mpr', '100 cycles imped/0.8 to 1.18 V/0.8 to 1_09_PEIS_C01.mpr', '100 cycles imped/0.8 to 1.18 V/0.8 to 1_16_PEIS_C01.mpr', '100 cycles imped/0.8 to 1.18 V/0.8 to 1_15_PEIS_C01.mpr', '100 cycles imped/0.8 to 1.18 V/0.8 to 1_11_PEIS_C01.mpr', '100 cycles imped/0.8 to 1.18 V/0.8 to 1_14_PEIS_C01.mpr', '100 cycles imped/0.8 to 1.18 V/0.8 to 1_08_PEIS_C01.mpr', '100 cycles imped/0.8 to 1.18 V/0.8 to 1_13_PEIS_C01.mpr', '100 cycles imped/0.8 to 1.18 V/0.8 to 1_18_PEIS_C01.mpr', '100 cycles imped/0.8 to 1.18 V/0.8 to 1_05_PEIS_C01.mpr', '100 cycles imped/0.8 to 1.18 V/0.8 to 1_06_PEIS_C01.mpr', '100 cycles imped/0.8 to 1.18 V/0.8 to 1_02_PEIS_C01.mpr', '100 cycles imped/1.2 to 1.58 V/1.2 to 1_18_PEIS_C01.mpr', '100 cycles imped/1.2 to 1.58 V/1.2 to 1_14_PEIS_C01.mpr', '100 cycles imped/1.2 to 1.58 V/1.2 to 1_09_PEIS_C01.mpr', '100 cycles imped/1.2 to 1.58 V/1.2 to 1_20_PEIS_C01.mpr', '100 cycles imped/1.2 to 1.58 V/1.2 to 1_08_PEIS_C01.mpr', '100 cycles imped/1.2 to 1.58 V/1.2 to 1_04_PEIS_C01.mpr', '100 cycles imped/1.2 to 1.58 V/1.2 to 1_03_PEIS_C01.mpr', '100 cycles imped/1.2 to 1.58 V/1.2 to 1_17_PEIS_C01.mpr', '100 cycles imped/1.2 to 1.58 V/1.2 to 1_07_PEIS_C01.mpr', '100 cycles imped/1.2 to 1.58 V/1.2 to 1_15_PEIS_C01.mpr', '100 cycles imped/1.2 to 1.58 V/1.2 to 1_01_PEIS_C01.mpr', '100 cycles imped/1.2 to 1.58 V/1.2 to 1_05_PEIS_C01.mpr', '100 cycles imped/1.2 to 1.58 V/1.2 to 1_02_PEIS_C01.mpr', '100 cycles imped/1.2 to 1.58 V/1.2 to 1_19_PEIS_C01.mpr', '100 cycles imped/1.2 to 1.58 V/1.2 to 1_13_PEIS_C01.mpr', '100 cycles imped/1.2 to 1.58 V/1.2 to 1_11_PEIS_C01.mpr', '100 cycles imped/1.2 to 1.58 V/1.2 to 1_10_PEIS_C01.mpr', '100 cycles imped/1.2 to 1.58 V/1.2 to 1_06_PEIS_C01.mpr', '100 cycles imped/1.2 to 1.58 V/1.2 to 1_16_PEIS_C01.mpr', '100 cycles imped/1.2 to 1.58 V/1.2 to 1_12_PEIS_C01.mpr']\n"
     ]
    }
   ],
   "source": [
    "\n",
    "\n",
    "# Example usage:\n",
    "root_folder = \"100 cycles imped\"\n",
    "extension = \".mpr\"\n",
    "mpr_files = find_files(root_folder, extension)#.sort(reverse=True)\n",
    "#mpr_files.sort(reverse=True)\n",
    "print (mpr_files)"
   ]
  },
  {
   "cell_type": "code",
   "execution_count": 2,
   "metadata": {},
   "outputs": [
    {
     "data": {
      "image/png": "[encoded data removed]",
      "text/plain": [
       "<Figure size 640x480 with 1 Axes>"
      ]
     },
     "metadata": {},
     "output_type": "display_data"
    }
   ],
   "source": [
    "from classes_EIS import DataHandler, RRCRCModel,RRCRCCPEModel, FitManager,FitQuality, find_files\n",
    "import matplotlib.pyplot as plt\n",
    "\n",
    "root_folder = \"100 cycles imped\"\n",
    "extension = \".mpr\"\n",
    "mpr_files = find_files(root_folder, extension)\n",
    "mpr_files.sort(reverse=False)\n",
    "\n",
    "# Define initial guesses and bounds for each \n",
    "Rs_guess = 11.\n",
    "R_guess = 1.5\n",
    "fs_guess = 10**1.3\n",
    "n_guess = 1.\n",
    "R2_guess = 6e4\n",
    "fs2_guess = 10**0.5\n",
    "n2_guess = 1.\n",
    "\n",
    "initial_guess = [Rs_guess, R_guess, fs_guess,n_guess, R2_guess, fs2_guess,n2_guess]\n",
    "bounds = (\n",
    "    [5, 1., 10**1, 0.7, 1, 10**-1, 0.7],  # Lower bounds  (PREVIOUSLY 0.9)\n",
    "    [15, 6., 10**7, 1.25, 1e8, 10**3, 1.05]  # Upper bounds\n",
    "    )\n",
    "\n",
    "# R-RC-RC model with CPE\n",
    "rrcrccpe_model = RRCRCCPEModel(initial_guess, bounds)\n",
    "\n",
    "f_min = 4; f_max = 1e6\n",
    "\n",
    "data_handlers = [DataHandler(mpr_file) for mpr_file in mpr_files]\n",
    "fit_manager = FitManager(data_handlers[0])\n",
    "\n",
    "#fit_manager.fit_multiple_files(rrcrccpe_model, data_handlers, fmin=f_min, fmax=f_max)\n",
    "\n",
    "\n",
    "for data_handler in [DataHandler(mpr_file) for mpr_file in mpr_files]:\n",
    "    Ewe = data_handler.Ewe\n",
    "    fit_manager = FitManager(data_handler)\n",
    "    model, covariance, fit_quality = fit_manager.fit_model(rrcrccpe_model, fmin=f_min, fmax=f_max)\n",
    "\n",
    "    plt.scatter(Ewe,model.params[5])\n",
    "    #plt.scatter(Ewe,fit_quality)"
   ]
  },
  {
   "cell_type": "code",
   "execution_count": null,
   "metadata": {},
   "outputs": [],
   "source": []
  }
 ],
 "metadata": {
  "kernelspec": {
   "display_name": "Python 3",
   "language": "python",
   "name": "python3"
  },
  "language_info": {
   "codemirror_mode": {
    "name": "ipython",
    "version": 3
   },
   "file_extension": ".py",
   "mimetype": "text/x-python",
   "name": "python",
   "nbconvert_exporter": "python",
   "pygments_lexer": "ipython3",
   "version": "3.12.1"
  }
 },
 "nbformat": 4,
 "nbformat_minor": 2
}
