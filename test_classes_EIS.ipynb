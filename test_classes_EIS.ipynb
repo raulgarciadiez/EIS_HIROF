{
 "cells": [
  {
   "cell_type": "code",
   "execution_count": 1,
   "metadata": {},
   "outputs": [
    {
     "name": "stdout",
     "output_type": "stream",
     "text": [
      "Using default initial guess: [11.0, 1.5, 19.952623149688797, 1.0, 60000.0, 3.1622776601683795, 1.0]\n",
      "Warning: Some parameters are near the bounds!\n",
      "Parameters hitting bounds: [5.00000000e+00 1.69638331e+03 1.29051594e+00 8.26627535e+04]\n",
      "R-RC-RC-CPE Parameters (narrow): [1.07203082e+01 5.00000000e+00 1.69638331e+03 1.00573763e+00\n",
      " 1.29051594e+00 8.26627535e+04 8.45955151e-01]\n",
      "R-squared:0.999986\n",
      "Using previous fitted parameters as initial guess: [1.07203082e+01 5.00000000e+00 1.69638331e+03 1.00573763e+00\n",
      " 1.29051594e+00 8.26627535e+04 8.45955151e-01]\n",
      "Warning: Some parameters are near the bounds!\n",
      "Parameters hitting bounds: [5.00000000e+00 4.35441503e+01 1.50000000e+00 8.33851669e+00\n",
      " 6.37814598e+04 5.00000000e-01]\n",
      "R-RC-RC-CPE Parameters: [6.61638762e+00 5.00000000e+00 4.35441503e+01 1.50000000e+00\n",
      " 8.33851669e+00 6.37814598e+04 5.00000000e-01]\n",
      "R-squared:0.146525\n"
     ]
    }
   ],
   "source": [
    "from classes_EIS import DataHandler, RRCRCModel,RRCRCCPEModel, FitManager\n",
    "\n",
    "data_handler = DataHandler('MPR files/1_00V_10cyc.mpr')\n",
    "fit_manager = FitManager(data_handler)\n",
    "\n",
    "# Define initial guesses and bounds for each \n",
    "Rs_guess = 11.\n",
    "R_guess = 1.5\n",
    "fs_guess = 10**1.3\n",
    "n_guess = 1.\n",
    "R2_guess = 6e4\n",
    "fs2_guess = 10**0.5\n",
    "n2_guess = 1.\n",
    "\n",
    "initial_guess_rrcrccpe = [Rs_guess, R_guess, fs_guess,n_guess, R2_guess, fs2_guess,n2_guess]\n",
    "bounds_rrcrccpe = ([5, 1, 1e-2, 0.5, 1, 1e-2, 0.5], [15, 5, 1e7, 1.5, 1e6, 1e7, 1.5])\n",
    "\n",
    "# R-RC-RC model with CPE\n",
    "rrcrccpe_model = RRCRCCPEModel(initial_guess_rrcrccpe, bounds_rrcrccpe)\n",
    "\n",
    "# Fit narrow range (high frequencies)\n",
    "f_min=1e3; f_max = 1e6\n",
    "fitted_rrcrccpe_model, rrcrccpe_covariance, rrcrccpe_fit_quality = fit_manager.fit_model(rrcrccpe_model, fmin=f_min, fmax=f_max)\n",
    "print(\"R-RC-RC-CPE Parameters (narrow):\", fitted_rrcrccpe_model.params)\n",
    "print(\"R-squared:%.6f\" %(rrcrccpe_fit_quality[\"R-squared\"]))\n",
    "\n",
    "# Fit whole range (except very slow freq.)\n",
    "f_min = 4\n",
    "fitted_rrcrccpe_model_2, rrcrccpe_covariance_2, rrcrccpe_fit_quality_2 = fit_manager.fit_model(rrcrccpe_model, fmin=f_min, fmax=f_max)\n",
    "print(\"R-RC-RC-CPE Parameters:\", fitted_rrcrccpe_model_2.params)\n",
    "print(\"R-squared:%.6f\" %(rrcrccpe_fit_quality_2[\"R-squared\"]))"
   ]
  },
  {
   "cell_type": "code",
   "execution_count": null,
   "metadata": {},
   "outputs": [],
   "source": [
    "\n",
    "#initial_guess_rrcrc = [Rs_guess, R_guess, 3.2e-5, R2_guess, 1.2e-4]\n",
    "#bounds_rrcrc = ([5, 1, 1e-7, 1, 1e-7], [15, 5, 1e-3, 1e6, 1e-3])\n",
    "#rrcrc_model = RRCRCModel(initial_guess_rrcrc, bounds_rrcrc)\n",
    "#fitted_rrcrc_model, rrcrc_covariance, rrcrc_fit_quality = fit_manager.fit_model(rrcrc_model, fmin=4e3, fmax=1e6)\n",
    "#print(\"Optimized RRCRC Model Parameters:\", fitted_rrcrc_model.params)\n",
    "#print(\"Fit Quality Metrics for RRCRC Model:\", rrcrc_fit_quality)\n",
    "\n",
    "\n"
   ]
  },
  {
   "cell_type": "code",
   "execution_count": null,
   "metadata": {},
   "outputs": [],
   "source": []
  }
 ],
 "metadata": {
  "kernelspec": {
   "display_name": "Python 3",
   "language": "python",
   "name": "python3"
  },
  "language_info": {
   "codemirror_mode": {
    "name": "ipython",
    "version": 3
   },
   "file_extension": ".py",
   "mimetype": "text/x-python",
   "name": "python",
   "nbconvert_exporter": "python",
   "pygments_lexer": "ipython3",
   "version": "3.12.1"
  }
 },
 "nbformat": 4,
 "nbformat_minor": 2
}
