{
 "cells": [
  {
   "cell_type": "code",
   "execution_count": null,
   "metadata": {},
   "outputs": [],
   "source": [
    "# Import the relevant classes\n",
    "from test_classes_EIS import DataHandler, RRCRCModel,RRCRCCPEModel, FitManager\n",
    "\n",
    "# Example of how to fit multiple models with varying parameter numbers\n",
    "data_handler = DataHandler('MPR files/1_00V_10cyc.mpr')\n",
    "\n",
    "# Define initial guesses and bounds for each \n",
    "Rs_guess = 11.\n",
    "R_guess = 1.5\n",
    "fs_guess = 10**1.3\n",
    "n_guess = 1.\n",
    "R2_guess = 5e4\n",
    "fs2_guess = 10**0.5\n",
    "n2_guess = 1.\n",
    "\n",
    "initial_guess_rrcrc = [Rs_guess, R_guess, 1e-6, R2_guess, 1e-6]\n",
    "bounds_rrcrc = ([0, 0, 1e-9, 0, 1e-9], [100, 100, 1e-2, 1e7, 1e-2])\n",
    "\n",
    "initial_guess_rrcrccpe = [Rs_guess, R_guess, fs_guess,n_guess, R2_guess, fs2_guess,n2_guess]\n",
    "bounds_rrcrccpe = ([5, 1, 1e-2, 0.5, 1, 1e-2, 0.5], [15, 5, 1e7, 1.5, 1e6, 1e7, 1.5])\n",
    "\n",
    "# Initialize models with dynamic number of parameters\n",
    "rrcrc_model = RRCRCModel(initial_guess_rrcrc, bounds_rrcrc)\n",
    "rcrc_model = RRCRCCPEModel(initial_guess_rrcrccpe, bounds_rrcrccpe)\n",
    "\n",
    "# Initialize the fit manager\n",
    "fit_manager = FitManager(data_handler)\n",
    "\n",
    "# Fit both models\n",
    "fitted_rrcrc_model, rrcrc_covariance = fit_manager.fit_model(rrcrc_model, fmin=0.1, fmax=1000)\n",
    "fitted_rcrc_model, rcrc_covariance = fit_manager.fit_model(rcrc_model, fmin=0.1, fmax=1000)\n",
    "\n",
    "# Print optimized parameters\n",
    "print(\"Optimized RRCRC Model Parameters:\", fitted_rrcrc_model.params)\n",
    "print(\"Optimized RCRC Model Parameters:\", fitted_rcrc_model.params)\n"
   ]
  }
 ],
 "metadata": {
  "kernelspec": {
   "display_name": "Python 3",
   "language": "python",
   "name": "python3"
  },
  "language_info": {
   "name": "python",
   "version": "3.12.1"
  }
 },
 "nbformat": 4,
 "nbformat_minor": 2
}
