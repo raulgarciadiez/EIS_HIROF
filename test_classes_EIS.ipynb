{
 "cells": [
  {
   "cell_type": "code",
   "execution_count": 5,
   "metadata": {},
   "outputs": [
    {
     "name": "stdout",
     "output_type": "stream",
     "text": [
      "1.000628\n",
      "Optimized RRCRC Model Parameters: [1.01091240e+01 1.07459792e+00 3.26489827e-06 1.78702566e+00\n",
      " 7.47721017e-05]\n",
      "Fit Quality Metrics for RRCRC Model: {'MSE': np.float64(0.0004849272163225992), 'RMSE': np.float64(0.02202106301527243), 'R-squared': np.float64(0.9999854809569958)}\n",
      "Optimized RRCRCCPE Model Parameters: [1.07549992e+01 1.00000000e+00 1.15423176e+05 9.54953030e-01\n",
      " 1.17263899e+00 1.29750250e+04 1.11701287e+00]\n",
      "Fit Quality Metrics for RRCRCCPE Model: {'MSE': np.float64(0.0001778294074020061), 'RMSE': np.float64(0.0133352693036926), 'R-squared': np.float64(0.9999946756694065)}\n"
     ]
    }
   ],
   "source": [
    "# Import the relevant classes\n",
    "from classes_EIS import DataHandler, RRCRCModel,RRCRCCPEModel, FitManager\n",
    "\n",
    "# Example of how to fit multiple models with varying parameter numbers\n",
    "data_handler = DataHandler('MPR files/1_00V_10cyc.mpr')\n",
    "\n",
    "print (data_handler.Ewe)\n",
    "\n",
    "# Define initial guesses and bounds for each \n",
    "Rs_guess = 11.\n",
    "R_guess = 1.5\n",
    "fs_guess = 10**1.3\n",
    "n_guess = 1.\n",
    "R2_guess = 6e4\n",
    "fs2_guess = 10**0.5\n",
    "n2_guess = 1.\n",
    "\n",
    "initial_guess_rrcrc = [Rs_guess, R_guess, 3.2e-5, R2_guess, 1.2e-4]\n",
    "bounds_rrcrc = ([5, 1, 1e-7, 1, 1e-7], [15, 5, 1e-3, 1e6, 1e-3])\n",
    "\n",
    "initial_guess_rrcrccpe = [Rs_guess, R_guess, fs_guess,n_guess, R2_guess, fs2_guess,n2_guess]\n",
    "bounds_rrcrccpe = ([5, 1, 1e-2, 0.5, 1, 1e-2, 0.5], [15, 5, 1e7, 1.5, 1e6, 1e7, 1.5])\n",
    "\n",
    "# Initialize models with dynamic number of parameters\n",
    "rrcrc_model = RRCRCModel(initial_guess_rrcrc, bounds_rrcrc)\n",
    "rrcrccpe_model = RRCRCCPEModel(initial_guess_rrcrccpe, bounds_rrcrccpe)\n",
    "\n",
    "# Initialize the fit manager\n",
    "fit_manager = FitManager(data_handler)\n",
    "\n",
    "# Fit both models\n",
    "fitted_rrcrc_model, rrcrc_covariance, rrcrc_fit_quality = fit_manager.fit_model(rrcrc_model, fmin=4e3, fmax=1e6)\n",
    "fitted_rrcrccpe_model, rrcrccpe_covariance, rrcrccpe_fit_quality = fit_manager.fit_model(rrcrccpe_model, fmin=4e3, fmax=1e6)\n",
    "\n",
    "# Print optimized parameters\n",
    "print(\"Optimized RRCRC Model Parameters:\", fitted_rrcrc_model.params)\n",
    "print(\"Fit Quality Metrics for RRCRC Model:\", rrcrc_fit_quality)\n",
    "print(\"Optimized RRCRCCPE Model Parameters:\", fitted_rrcrccpe_model.params)\n",
    "print(\"Fit Quality Metrics for RRCRCCPE Model:\", rrcrccpe_fit_quality)\n",
    "\n"
   ]
  },
  {
   "cell_type": "code",
   "execution_count": null,
   "metadata": {},
   "outputs": [],
   "source": []
  }
 ],
 "metadata": {
  "kernelspec": {
   "display_name": "Python 3",
   "language": "python",
   "name": "python3"
  },
  "language_info": {
   "codemirror_mode": {
    "name": "ipython",
    "version": 3
   },
   "file_extension": ".py",
   "mimetype": "text/x-python",
   "name": "python",
   "nbconvert_exporter": "python",
   "pygments_lexer": "ipython3",
   "version": "3.12.1"
  }
 },
 "nbformat": 4,
 "nbformat_minor": 2
}
